{
  "nbformat": 4,
  "nbformat_minor": 0,
  "metadata": {
    "colab": {
      "provenance": []
    },
    "kernelspec": {
      "name": "python3",
      "display_name": "Python 3"
    },
    "language_info": {
      "name": "python"
    }
  },
  "cells": [
    {
      "cell_type": "code",
      "execution_count": null,
      "metadata": {
        "colab": {
          "base_uri": "https://localhost:8080/"
        },
        "id": "a6zB7cp5tbBM",
        "outputId": "b43c313b-a11f-4549-d72d-ff715e06149e"
      },
      "outputs": [
        {
          "output_type": "stream",
          "name": "stdout",
          "text": [
            "   Sector_score LOCATION_ID  PARA_A  Score_A  Risk_A  PARA_B  Score_B  Risk_B  \\\n",
            "0          3.89          23    4.18      0.6   2.508    2.50      0.2   0.500   \n",
            "1          3.89           6    0.00      0.2   0.000    4.83      0.2   0.966   \n",
            "2          3.89           6    0.51      0.2   0.102    0.23      0.2   0.046   \n",
            "3          3.89           6    0.00      0.2   0.000   10.80      0.6   6.480   \n",
            "4          3.89           6    0.00      0.2   0.000    0.08      0.2   0.016   \n",
            "\n",
            "   TOTAL  numbers  ...  RiSk_E  History  Prob  Risk_F  Score  Inherent_Risk  \\\n",
            "0   6.68      5.0  ...     0.4        0   0.2     0.0    2.4          8.574   \n",
            "1   4.83      5.0  ...     0.4        0   0.2     0.0    2.0          2.554   \n",
            "2   0.74      5.0  ...     0.4        0   0.2     0.0    2.0          1.548   \n",
            "3  10.80      6.0  ...     0.4        0   0.2     0.0    4.4         17.530   \n",
            "4   0.08      5.0  ...     0.4        0   0.2     0.0    2.0          1.416   \n",
            "\n",
            "   CONTROL_RISK  Detection_Risk  Audit_Risk  Risk  \n",
            "0           0.4             0.5      1.7148     1  \n",
            "1           0.4             0.5      0.5108     0  \n",
            "2           0.4             0.5      0.3096     0  \n",
            "3           0.4             0.5      3.5060     1  \n",
            "4           0.4             0.5      0.2832     0  \n",
            "\n",
            "[5 rows x 27 columns]\n"
          ]
        }
      ],
      "source": [
        "import pandas as pd\n",
        "from sklearn.model_selection import train_test_split\n",
        "from sklearn.preprocessing import StandardScaler\n",
        "\n",
        "# Load dataset (replace 'audit_data.csv' with the correct file path)\n",
        "data = pd.read_csv('audit_data.csv')\n",
        "\n",
        "# View the first few rows to understand the structure\n",
        "print(data.head())\n"
      ]
    },
    {
      "cell_type": "code",
      "source": [
        "from sklearn.model_selection import train_test_split\n",
        "from sklearn.preprocessing import StandardScaler, OneHotEncoder\n",
        "from sklearn.compose import ColumnTransformer\n",
        "from sklearn.pipeline import Pipeline\n",
        "from sklearn.impute import SimpleImputer\n",
        "import pandas as pd\n",
        "\n",
        "# Define features and target\n",
        "X = data.drop(columns=['Risk'])  # All columns except 'Risk'\n",
        "y = data['Risk']  # The target column 'Risk'\n",
        "\n",
        "# Identify categorical and numerical columns\n",
        "categorical_cols = X.select_dtypes(include=['object']).columns\n",
        "numerical_cols = X.select_dtypes(include=['number']).columns\n",
        "\n",
        "# Preprocessing pipeline for numeric and categorical data\n",
        "numeric_transformer = Pipeline(steps=[\n",
        "    ('imputer', SimpleImputer(strategy='mean')),  # Handle missing values by imputing the mean\n",
        "    ('scaler', StandardScaler())  # Standardize numerical features\n",
        "])\n",
        "\n",
        "categorical_transformer = Pipeline(steps=[\n",
        "    ('imputer', SimpleImputer(strategy='most_frequent')),  # Handle missing values in categorical data\n",
        "    ('onehot', OneHotEncoder(handle_unknown='ignore'))  # Encode categorical data as one-hot vectors\n",
        "])\n",
        "\n",
        "# Combine preprocessing steps\n",
        "preprocessor = ColumnTransformer(\n",
        "    transformers=[\n",
        "        ('num', numeric_transformer, numerical_cols),\n",
        "        ('cat', categorical_transformer, categorical_cols)\n",
        "    ])\n",
        "\n",
        "# Apply preprocessing to data\n",
        "X_train, X_test, y_train, y_test = train_test_split(X, y, test_size=0.2, random_state=42)\n",
        "\n",
        "# Fit and transform the training data, transform the test data\n",
        "X_train = preprocessor.fit_transform(X_train)\n",
        "X_test = preprocessor.transform(X_test)\n"
      ],
      "metadata": {
        "id": "oydF7Jq9uPJO"
      },
      "execution_count": null,
      "outputs": []
    },
    {
      "cell_type": "code",
      "source": [
        "import tensorflow as tf\n",
        "from tensorflow.keras.models import Sequential\n",
        "from tensorflow.keras.layers import Dense\n",
        "\n",
        "# Build a simple model\n",
        "model = Sequential([\n",
        "    Dense(64, activation='relu', input_shape=(X_train.shape[1],)),\n",
        "    Dense(32, activation='relu'),\n",
        "    Dense(1, activation='sigmoid')  # Assuming binary classification (fraud/non-fraud)\n",
        "])\n",
        "\n",
        "# Compile the model\n",
        "model.compile(optimizer='adam', loss='binary_crossentropy', metrics=['accuracy'])\n",
        "\n",
        "# Train the model\n",
        "model.fit(X_train, y_train, epochs=10, batch_size=32, validation_data=(X_test, y_test))\n",
        "\n",
        "# Evaluate the model\n",
        "loss, accuracy = model.evaluate(X_test, y_test)\n",
        "print(f\"TensorFlow Model Accuracy: {accuracy:.2f}\")\n"
      ],
      "metadata": {
        "colab": {
          "base_uri": "https://localhost:8080/"
        },
        "id": "BkspDpA-ukAv",
        "outputId": "2d7e5b4e-e1ae-461b-af9d-d88d22cdb480"
      },
      "execution_count": null,
      "outputs": [
        {
          "output_type": "stream",
          "name": "stderr",
          "text": [
            "/usr/local/lib/python3.10/dist-packages/keras/src/layers/core/dense.py:87: UserWarning: Do not pass an `input_shape`/`input_dim` argument to a layer. When using Sequential models, prefer using an `Input(shape)` object as the first layer in the model instead.\n",
            "  super().__init__(activity_regularizer=activity_regularizer, **kwargs)\n"
          ]
        },
        {
          "output_type": "stream",
          "name": "stdout",
          "text": [
            "Epoch 1/10\n",
            "\u001b[1m20/20\u001b[0m \u001b[32m━━━━━━━━━━━━━━━━━━━━\u001b[0m\u001b[37m\u001b[0m \u001b[1m3s\u001b[0m 25ms/step - accuracy: 0.5848 - loss: 0.6167 - val_accuracy: 0.9615 - val_loss: 0.4577\n",
            "Epoch 2/10\n",
            "\u001b[1m20/20\u001b[0m \u001b[32m━━━━━━━━━━━━━━━━━━━━\u001b[0m\u001b[37m\u001b[0m \u001b[1m1s\u001b[0m 9ms/step - accuracy: 0.9653 - loss: 0.4092 - val_accuracy: 0.9615 - val_loss: 0.2902\n",
            "Epoch 3/10\n",
            "\u001b[1m20/20\u001b[0m \u001b[32m━━━━━━━━━━━━━━━━━━━━\u001b[0m\u001b[37m\u001b[0m \u001b[1m0s\u001b[0m 10ms/step - accuracy: 0.9551 - loss: 0.2615 - val_accuracy: 0.9808 - val_loss: 0.1642\n",
            "Epoch 4/10\n",
            "\u001b[1m20/20\u001b[0m \u001b[32m━━━━━━━━━━━━━━━━━━━━\u001b[0m\u001b[37m\u001b[0m \u001b[1m0s\u001b[0m 13ms/step - accuracy: 0.9618 - loss: 0.1542 - val_accuracy: 0.9872 - val_loss: 0.0958\n",
            "Epoch 5/10\n",
            "\u001b[1m20/20\u001b[0m \u001b[32m━━━━━━━━━━━━━━━━━━━━\u001b[0m\u001b[37m\u001b[0m \u001b[1m0s\u001b[0m 8ms/step - accuracy: 0.9641 - loss: 0.1042 - val_accuracy: 0.9808 - val_loss: 0.0668\n",
            "Epoch 6/10\n",
            "\u001b[1m20/20\u001b[0m \u001b[32m━━━━━━━━━━━━━━━━━━━━\u001b[0m\u001b[37m\u001b[0m \u001b[1m0s\u001b[0m 10ms/step - accuracy: 0.9658 - loss: 0.1058 - val_accuracy: 0.9872 - val_loss: 0.0543\n",
            "Epoch 7/10\n",
            "\u001b[1m20/20\u001b[0m \u001b[32m━━━━━━━━━━━━━━━━━━━━\u001b[0m\u001b[37m\u001b[0m \u001b[1m0s\u001b[0m 14ms/step - accuracy: 0.9719 - loss: 0.0805 - val_accuracy: 0.9872 - val_loss: 0.0462\n",
            "Epoch 8/10\n",
            "\u001b[1m20/20\u001b[0m \u001b[32m━━━━━━━━━━━━━━━━━━━━\u001b[0m\u001b[37m\u001b[0m \u001b[1m1s\u001b[0m 9ms/step - accuracy: 0.9639 - loss: 0.0801 - val_accuracy: 0.9872 - val_loss: 0.0427\n",
            "Epoch 9/10\n",
            "\u001b[1m20/20\u001b[0m \u001b[32m━━━━━━━━━━━━━━━━━━━━\u001b[0m\u001b[37m\u001b[0m \u001b[1m0s\u001b[0m 7ms/step - accuracy: 0.9827 - loss: 0.0514 - val_accuracy: 0.9872 - val_loss: 0.0380\n",
            "Epoch 10/10\n",
            "\u001b[1m20/20\u001b[0m \u001b[32m━━━━━━━━━━━━━━━━━━━━\u001b[0m\u001b[37m\u001b[0m \u001b[1m0s\u001b[0m 8ms/step - accuracy: 0.9779 - loss: 0.0554 - val_accuracy: 0.9936 - val_loss: 0.0406\n",
            "\u001b[1m5/5\u001b[0m \u001b[32m━━━━━━━━━━━━━━━━━━━━\u001b[0m\u001b[37m\u001b[0m \u001b[1m0s\u001b[0m 6ms/step - accuracy: 0.9979 - loss: 0.0362 \n",
            "TensorFlow Model Accuracy: 0.99\n"
          ]
        }
      ]
    },
    {
      "cell_type": "code",
      "source": [
        "import torch\n",
        "import torch.nn as nn\n",
        "import torch.optim as optim\n",
        "from torch.utils.data import DataLoader, TensorDataset\n",
        "\n",
        "# Convert data to PyTorch tensors\n",
        "X_train_tensor = torch.tensor(X_train, dtype=torch.float32)\n",
        "y_train_tensor = torch.tensor(y_train.values, dtype=torch.float32).unsqueeze(1)\n",
        "X_test_tensor = torch.tensor(X_test, dtype=torch.float32)\n",
        "y_test_tensor = torch.tensor(y_test.values, dtype=torch.float32).unsqueeze(1)\n",
        "\n",
        "# Create DataLoader for batching\n",
        "train_dataset = TensorDataset(X_train_tensor, y_train_tensor)\n",
        "train_loader = DataLoader(train_dataset, batch_size=32, shuffle=True)\n",
        "\n",
        "# Define the PyTorch model\n",
        "class AuditFraudModel(nn.Module):\n",
        "    def __init__(self):\n",
        "        super(AuditFraudModel, self).__init__()\n",
        "        self.fc1 = nn.Linear(X_train.shape[1], 64)\n",
        "        self.fc2 = nn.Linear(64, 32)\n",
        "        self.fc3 = nn.Linear(32, 1)\n",
        "        self.sigmoid = nn.Sigmoid()\n",
        "\n",
        "    def forward(self, x):\n",
        "        x = torch.relu(self.fc1(x))\n",
        "        x = torch.relu(self.fc2(x))\n",
        "        x = self.sigmoid(self.fc3(x))\n",
        "        return x\n",
        "\n",
        "# Initialize the model, loss function, and optimizer\n",
        "model = AuditFraudModel()\n",
        "criterion = nn.BCELoss()\n",
        "optimizer = optim.Adam(model.parameters(), lr=0.001)\n",
        "\n",
        "# Training loop\n",
        "for epoch in range(10):\n",
        "    for X_batch, y_batch in train_loader:\n",
        "        optimizer.zero_grad()\n",
        "        outputs = model(X_batch)\n",
        "        loss = criterion(outputs, y_batch)\n",
        "        loss.backward()\n",
        "        optimizer.step()\n",
        "\n",
        "# Evaluate the model\n",
        "with torch.no_grad():\n",
        "    outputs = model(X_test_tensor)\n",
        "    predictions = (outputs > 0.5).float()\n",
        "    accuracy = (predictions == y_test_tensor).float().mean()\n",
        "    print(f\"PyTorch Model Accuracy: {accuracy:.2f}\")\n"
      ],
      "metadata": {
        "colab": {
          "base_uri": "https://localhost:8080/"
        },
        "id": "g8VUKxGyuq2-",
        "outputId": "8e198c5f-5f88-4e30-a44d-ca5fb9dbc944"
      },
      "execution_count": null,
      "outputs": [
        {
          "output_type": "stream",
          "name": "stdout",
          "text": [
            "PyTorch Model Accuracy: 0.99\n"
          ]
        }
      ]
    },
    {
      "cell_type": "code",
      "source": [
        "import numpy as np\n",
        "from sklearn.metrics import confusion_matrix, classification_report\n",
        "\n",
        "# Predict on test data using PyTorch model\n",
        "model.eval()  # Set the model to evaluation mode\n",
        "with torch.no_grad():\n",
        "    outputs = model(X_test_tensor)\n",
        "    predictions = (outputs > 0.5).float().numpy().flatten()\n",
        "\n",
        "# Convert y_test_tensor to numpy\n",
        "y_test_np = y_test_tensor.numpy().flatten()\n",
        "\n",
        "# Compute metrics\n",
        "conf_matrix_pt = confusion_matrix(y_test_np, predictions)\n",
        "report_pt = classification_report(y_test_np, predictions)\n",
        "\n",
        "print(\"PyTorch Model Evaluation:\")\n",
        "print(\"Confusion Matrix:\\n\", conf_matrix_pt)\n",
        "print(\"Classification Report:\\n\", report_pt)\n"
      ],
      "metadata": {
        "colab": {
          "base_uri": "https://localhost:8080/"
        },
        "id": "ze0w0BVGv0Z1",
        "outputId": "e80b6ff1-afdf-472e-82c8-830198657b17"
      },
      "execution_count": null,
      "outputs": [
        {
          "output_type": "stream",
          "name": "stdout",
          "text": [
            "PyTorch Model Evaluation:\n",
            "Confusion Matrix:\n",
            " [[95  1]\n",
            " [ 0 60]]\n",
            "Classification Report:\n",
            "               precision    recall  f1-score   support\n",
            "\n",
            "         0.0       1.00      0.99      0.99        96\n",
            "         1.0       0.98      1.00      0.99        60\n",
            "\n",
            "    accuracy                           0.99       156\n",
            "   macro avg       0.99      0.99      0.99       156\n",
            "weighted avg       0.99      0.99      0.99       156\n",
            "\n"
          ]
        }
      ]
    },
    {
      "cell_type": "code",
      "source": [
        "import numpy as np\n",
        "import torch\n",
        "import seaborn as sns\n",
        "import matplotlib.pyplot as plt\n",
        "from sklearn.metrics import confusion_matrix, classification_report\n",
        "\n",
        "# Predict on test data using PyTorch model\n",
        "model.eval()  # Set the model to evaluation mode\n",
        "with torch.no_grad():\n",
        "    outputs = model(X_test_tensor)\n",
        "    predictions = (outputs > 0.5).float().numpy().flatten()\n",
        "\n",
        "# Convert y_test_tensor to numpy\n",
        "y_test_np = y_test_tensor.numpy().flatten()\n",
        "\n",
        "# Compute confusion matrix\n",
        "conf_matrix_pt = confusion_matrix(y_test_np, predictions)\n",
        "report_pt = classification_report(y_test_np, predictions)\n",
        "\n",
        "print(\"PyTorch Model Evaluation:\")\n",
        "print(\"Confusion Matrix:\\n\", conf_matrix_pt)\n",
        "print(\"Classification Report:\\n\", report_pt)\n",
        "\n",
        "# Plot heatmap for confusion matrix\n",
        "plt.figure(figsize=(8,6))\n",
        "sns.heatmap(conf_matrix_pt, annot=True, fmt='d', cmap='Blues', cbar=False,\n",
        "            xticklabels=[\"Predicted Negative\", \"Predicted Positive\"],\n",
        "            yticklabels=[\"Actual Negative\", \"Actual Positive\"])\n",
        "plt.title('Confusion Matrix Heatmap')\n",
        "plt.xlabel('Predicted Labels')\n",
        "plt.ylabel('Actual Labels')\n",
        "plt.show()\n"
      ],
      "metadata": {
        "colab": {
          "base_uri": "https://localhost:8080/",
          "height": 819
        },
        "id": "gLvoYgARZ98B",
        "outputId": "3eaabb0f-e2a4-422e-9a35-0fe4e29eb934"
      },
      "execution_count": null,
      "outputs": [
        {
          "output_type": "stream",
          "name": "stdout",
          "text": [
            "PyTorch Model Evaluation:\n",
            "Confusion Matrix:\n",
            " [[95  1]\n",
            " [ 0 60]]\n",
            "Classification Report:\n",
            "               precision    recall  f1-score   support\n",
            "\n",
            "         0.0       1.00      0.99      0.99        96\n",
            "         1.0       0.98      1.00      0.99        60\n",
            "\n",
            "    accuracy                           0.99       156\n",
            "   macro avg       0.99      0.99      0.99       156\n",
            "weighted avg       0.99      0.99      0.99       156\n",
            "\n"
          ]
        },
        {
          "output_type": "display_data",
          "data": {
            "text/plain": [
              "<Figure size 800x600 with 1 Axes>"
            ],
            "image/png": "[encoded data removed]"
          },
          "metadata": {}
        }
      ]
    },
    {
      "cell_type": "markdown",
      "source": [
        "CROSS VALIDATION\n"
      ],
      "metadata": {
        "id": "2IH3e207yF_H"
      }
    },
    {
      "cell_type": "code",
      "source": [
        "from sklearn.model_selection import KFold\n",
        "import torch\n",
        "import torch.nn as nn\n",
        "import torch.optim as optim\n",
        "from torch.utils.data import DataLoader, TensorDataset\n",
        "\n",
        "# Define the number of splits\n",
        "kf = KFold(n_splits=5, shuffle=True, random_state=42)\n",
        "\n",
        "# Initialize metrics storage\n",
        "cv_accuracies = []\n",
        "\n",
        "# Cross-validation loop\n",
        "for train_index, val_index in kf.split(X):\n",
        "    X_train_cv, X_val_cv = X.iloc[train_index], X.iloc[val_index]\n",
        "    y_train_cv, y_val_cv = y.iloc[train_index], y.iloc[val_index]\n",
        "\n",
        "    # Convert to PyTorch tensors\n",
        "    X_train_tensor = torch.tensor(preprocessor.transform(X_train_cv), dtype=torch.float32)\n",
        "    y_train_tensor = torch.tensor(y_train_cv.values, dtype=torch.float32).unsqueeze(1)\n",
        "    X_val_tensor = torch.tensor(preprocessor.transform(X_val_cv), dtype=torch.float32)\n",
        "    y_val_tensor = torch.tensor(y_val_cv.values, dtype=torch.float32).unsqueeze(1)\n",
        "\n",
        "    # Create DataLoader\n",
        "    train_dataset = TensorDataset(X_train_tensor, y_train_tensor)\n",
        "    train_loader = DataLoader(train_dataset, batch_size=32, shuffle=True)\n",
        "\n",
        "    # Define model, loss function, and optimizer\n",
        "    model = AuditFraudModel()  # Reinitialize the model\n",
        "    criterion = nn.BCELoss()\n",
        "    optimizer = optim.Adam(model.parameters(), lr=0.001)\n",
        "\n",
        "    # Training loop\n",
        "    for epoch in range(10):\n",
        "        model.train()\n",
        "        for X_batch, y_batch in train_loader:\n",
        "            optimizer.zero_grad()\n",
        "            outputs = model(X_batch)\n",
        "            loss = criterion(outputs, y_batch)\n",
        "            loss.backward()\n",
        "            optimizer.step()\n",
        "\n",
        "    # Evaluation\n",
        "    model.eval()\n",
        "    with torch.no_grad():\n",
        "        outputs = model(X_val_tensor)\n",
        "        predictions = (outputs > 0.5).float().numpy().flatten()\n",
        "        accuracy = (predictions == y_val_tensor.numpy().flatten()).mean()\n",
        "        cv_accuracies.append(accuracy)\n",
        "\n",
        "print(f\"Cross-Validation Accuracies: {cv_accuracies}\")\n",
        "print(f\"Mean Cross-Validation Accuracy: {np.mean(cv_accuracies):.2f}\")\n"
      ],
      "metadata": {
        "colab": {
          "base_uri": "https://localhost:8080/"
        },
        "id": "NTQSvA0XyD6o",
        "outputId": "e341dd3d-5f9a-406b-ecce-30386814a7f9"
      },
      "execution_count": null,
      "outputs": [
        {
          "output_type": "stream",
          "name": "stdout",
          "text": [
            "Cross-Validation Accuracies: [0.9871794871794872, 0.9806451612903225, 0.9741935483870968, 0.967741935483871, 1.0]\n",
            "Mean Cross-Validation Accuracy: 0.98\n"
          ]
        }
      ]
    },
    {
      "cell_type": "code",
      "source": [
        "from sklearn.metrics import roc_auc_score, average_precision_score\n",
        "\n",
        "# Predictions and true values for ROC-AUC and Precision-Recall AUC\n",
        "y_pred_prob = outputs.numpy().flatten()  # Model outputs as probabilities\n",
        "\n",
        "# Compute ROC-AUC and Precision-Recall AUC\n",
        "roc_auc = roc_auc_score(y_val_tensor.numpy().flatten(), y_pred_prob)\n",
        "pr_auc = average_precision_score(y_val_tensor.numpy().flatten(), y_pred_prob)\n",
        "\n",
        "print(f\"ROC-AUC: {roc_auc:.2f}\")\n",
        "print(f\"Precision-Recall AUC: {pr_auc:.2f}\")\n"
      ],
      "metadata": {
        "colab": {
          "base_uri": "https://localhost:8080/"
        },
        "id": "KDXBpIQ3yqOw",
        "outputId": "1da2997c-e5f5-4957-b109-4b31a9a7e786"
      },
      "execution_count": null,
      "outputs": [
        {
          "output_type": "stream",
          "name": "stdout",
          "text": [
            "ROC-AUC: 1.00\n",
            "Precision-Recall AUC: 1.00\n"
          ]
        }
      ]
    },
    {
      "cell_type": "code",
      "source": [
        "from sklearn.model_selection import KFold\n",
        "import torch\n",
        "import torch.nn as nn\n",
        "import torch.optim as optim\n",
        "from torch.utils.data import DataLoader, TensorDataset\n",
        "\n",
        "# Define the number of splits\n",
        "kf = KFold(n_splits=5, shuffle=True, random_state=42)\n",
        "\n",
        "# Initialize metrics storage\n",
        "cv_accuracies = []\n",
        "\n",
        "# Cross-validation loop\n",
        "for train_index, val_index in kf.split(X):\n",
        "    X_train_cv, X_val_cv = X.iloc[train_index], X.iloc[val_index]\n",
        "    y_train_cv, y_val_cv = y.iloc[train_index], y.iloc[val_index]\n",
        "\n",
        "    # Convert to PyTorch tensors\n",
        "    X_train_tensor = torch.tensor(preprocessor.transform(X_train_cv), dtype=torch.float32)\n",
        "    y_train_tensor = torch.tensor(y_train_cv.values, dtype=torch.float32).unsqueeze(1)\n",
        "    X_val_tensor = torch.tensor(preprocessor.transform(X_val_cv), dtype=torch.float32)\n",
        "    y_val_tensor = torch.tensor(y_val_cv.values, dtype=torch.float32).unsqueeze(1)\n",
        "\n",
        "    # Create DataLoader\n",
        "    train_dataset = TensorDataset(X_train_tensor, y_train_tensor)\n",
        "    train_loader = DataLoader(train_dataset, batch_size=32, shuffle=True)\n",
        "\n",
        "    # Define the model, loss function, and optimizer\n",
        "    model = AuditFraudModel()\n",
        "    criterion = nn.BCELoss()\n",
        "    optimizer = optim.Adam(model.parameters(), lr=0.001)\n",
        "\n",
        "    # Train the model\n",
        "    for epoch in range(10):\n",
        "        for X_batch, y_batch in train_loader:\n",
        "            optimizer.zero_grad()\n",
        "            outputs = model(X_batch)\n",
        "            loss = criterion(outputs, y_batch)\n",
        "            loss.backward()\n",
        "            optimizer.step()\n",
        "\n",
        "    # Validate the model\n",
        "    with torch.no_grad():\n",
        "        outputs = model(X_val_tensor)\n",
        "        predictions = (outputs > 0.5).float()\n",
        "        accuracy = (predictions == y_val_tensor).float().mean().item()\n",
        "        cv_accuracies.append(accuracy)\n",
        "\n",
        "# Output the cross-validated accuracies\n",
        "print(f\"Cross-validated accuracies: {cv_accuracies}\")\n",
        "print(f\"Mean cross-validated accuracy: {np.mean(cv_accuracies):.2f}\")\n"
      ],
      "metadata": {
        "colab": {
          "base_uri": "https://localhost:8080/"
        },
        "id": "HaFsyeNjEhQE",
        "outputId": "3d47c5e5-f055-4fe5-d8ad-af3500969f43"
      },
      "execution_count": null,
      "outputs": [
        {
          "output_type": "stream",
          "name": "stdout",
          "text": [
            "Cross-validated accuracies: [0.9935897588729858, 0.9741935729980469, 0.9741935729980469, 0.9548386931419373, 0.9935483932495117]\n",
            "Mean cross-validated accuracy: 0.98\n"
          ]
        }
      ]
    },
    {
      "cell_type": "code",
      "source": [
        "\n",
        "import torch.optim as optim\n",
        "\n",
        "# Define the model\n",
        "model = AuditFraudModel()\n",
        "\n",
        "# learning rate\n",
        "learning_rate = 0.0005\n",
        "optimizer = optim.Adam(model.parameters(), lr=learning_rate)\n",
        "\n",
        "#  batch size\n",
        "batch_size = 64\n",
        "\n",
        "# DataLoader with new batch size\n",
        "train_loader = DataLoader(train_dataset, batch_size=batch_size, shuffle=True)\n"
      ],
      "metadata": {
        "id": "4mHcGSNnzMBY"
      },
      "execution_count": null,
      "outputs": []
    },
    {
      "cell_type": "code",
      "source": [
        "class AuditFraudModel(nn.Module):\n",
        "    def __init__(self):\n",
        "        super(AuditFraudModel, self).__init__()\n",
        "        self.fc1 = nn.Linear(in_features, 128)  # Change 128 to your preferred number of units\n",
        "        self.fc2 = nn.Linear(128, 64)  # Change 64 to your preferred number of units\n",
        "        self.fc3 = nn.Linear(64, 1)\n",
        "        self.sigmoid = nn.Sigmoid()\n",
        "\n",
        "    def forward(self, x):\n",
        "        x = torch.relu(self.fc1(x))\n",
        "        x = torch.relu(self.fc2(x))\n",
        "        x = self.fc3(x)\n",
        "        x = self.sigmoid(x)\n",
        "        return x\n"
      ],
      "metadata": {
        "id": "S1tmTCpozYwE"
      },
      "execution_count": null,
      "outputs": []
    },
    {
      "cell_type": "code",
      "source": [
        "import torch\n",
        "\n",
        "# Saving the model\n",
        "torch.save(model.state_dict(), 'fraud_detection_model.pth')\n"
      ],
      "metadata": {
        "id": "G750CfCDzabF"
      },
      "execution_count": null,
      "outputs": []
    },
    {
      "cell_type": "code",
      "source": [
        "pip install Flask\n"
      ],
      "metadata": {
        "colab": {
          "base_uri": "https://localhost:8080/"
        },
        "id": "7hhAPge7zd5t",
        "outputId": "2d811dc4-bc77-4554-9325-da6bd772b59f"
      },
      "execution_count": null,
      "outputs": [
        {
          "output_type": "stream",
          "name": "stdout",
          "text": [
            "Requirement already satisfied: Flask in /usr/local/lib/python3.10/dist-packages (2.2.5)\n",
            "Requirement already satisfied: Werkzeug>=2.2.2 in /usr/local/lib/python3.10/dist-packages (from Flask) (3.0.4)\n",
            "Requirement already satisfied: Jinja2>=3.0 in /usr/local/lib/python3.10/dist-packages (from Flask) (3.1.4)\n",
            "Requirement already satisfied: itsdangerous>=2.0 in /usr/local/lib/python3.10/dist-packages (from Flask) (2.2.0)\n",
            "Requirement already satisfied: click>=8.0 in /usr/local/lib/python3.10/dist-packages (from Flask) (8.1.7)\n",
            "Requirement already satisfied: MarkupSafe>=2.0 in /usr/local/lib/python3.10/dist-packages (from Jinja2>=3.0->Flask) (2.1.5)\n"
          ]
        }
      ]
    },
    {
      "cell_type": "code",
      "source": [
        "import torch\n",
        "import torch.nn as nn\n",
        "\n",
        "# Define the original model architecture\n",
        "class AuditFraudModel(nn.Module):\n",
        "    def __init__(self):\n",
        "        super(AuditFraudModel, self).__init__()\n",
        "        # Adjust the dimensions to match the saved model architecture\n",
        "        self.fc1 = nn.Linear(68, 64)  # Input dimension should match the saved model\n",
        "        self.fc2 = nn.Linear(64, 32)\n",
        "        self.fc3 = nn.Linear(32, 1)\n",
        "        self.sigmoid = nn.Sigmoid()\n",
        "\n",
        "    def forward(self, x):\n",
        "        x = torch.relu(self.fc1(x))\n",
        "        x = torch.relu(self.fc2(x))\n",
        "        x = self.fc3(x)\n",
        "        x = self.sigmoid(x)\n",
        "        return x\n",
        "\n",
        "# Load the model\n",
        "model = AuditFraudModel()\n",
        "model.load_state_dict(torch.load('fraud_detection_model.pth'))\n",
        "model.eval()\n"
      ],
      "metadata": {
        "colab": {
          "base_uri": "https://localhost:8080/"
        },
        "id": "jKAi2AZbzvX2",
        "outputId": "b564df97-fdd5-4922-91e7-51449a979aaf"
      },
      "execution_count": null,
      "outputs": [
        {
          "output_type": "stream",
          "name": "stderr",
          "text": [
            "<ipython-input-11-b93894476724>:23: FutureWarning: You are using `torch.load` with `weights_only=False` (the current default value), which uses the default pickle module implicitly. It is possible to construct malicious pickle data which will execute arbitrary code during unpickling (See https://github.com/pytorch/pytorch/blob/main/SECURITY.md#untrusted-models for more details). In a future release, the default value for `weights_only` will be flipped to `True`. This limits the functions that could be executed during unpickling. Arbitrary objects will no longer be allowed to be loaded via this mode unless they are explicitly allowlisted by the user via `torch.serialization.add_safe_globals`. We recommend you start setting `weights_only=True` for any use case where you don't have full control of the loaded file. Please open an issue on GitHub for any issues related to this experimental feature.\n",
            "  model.load_state_dict(torch.load('fraud_detection_model.pth'))\n"
          ]
        },
        {
          "output_type": "execute_result",
          "data": {
            "text/plain": [
              "AuditFraudModel(\n",
              "  (fc1): Linear(in_features=68, out_features=64, bias=True)\n",
              "  (fc2): Linear(in_features=64, out_features=32, bias=True)\n",
              "  (fc3): Linear(in_features=32, out_features=1, bias=True)\n",
              "  (sigmoid): Sigmoid()\n",
              ")"
            ]
          },
          "metadata": {},
          "execution_count": 11
        }
      ]
    },
    {
      "cell_type": "code",
      "source": [
        "model.load_state_dict(torch.load('fraud_detection_model.pth', map_location=torch.device('cpu')), strict=False)\n"
      ],
      "metadata": {
        "colab": {
          "base_uri": "https://localhost:8080/"
        },
        "id": "GXH3hXP_0hZN",
        "outputId": "20c4c0fd-1ffc-4903-8295-9313cf4b91ee"
      },
      "execution_count": null,
      "outputs": [
        {
          "output_type": "stream",
          "name": "stderr",
          "text": [
            "<ipython-input-12-d9c1ecf1da59>:1: FutureWarning: You are using `torch.load` with `weights_only=False` (the current default value), which uses the default pickle module implicitly. It is possible to construct malicious pickle data which will execute arbitrary code during unpickling (See https://github.com/pytorch/pytorch/blob/main/SECURITY.md#untrusted-models for more details). In a future release, the default value for `weights_only` will be flipped to `True`. This limits the functions that could be executed during unpickling. Arbitrary objects will no longer be allowed to be loaded via this mode unless they are explicitly allowlisted by the user via `torch.serialization.add_safe_globals`. We recommend you start setting `weights_only=True` for any use case where you don't have full control of the loaded file. Please open an issue on GitHub for any issues related to this experimental feature.\n",
            "  model.load_state_dict(torch.load('fraud_detection_model.pth', map_location=torch.device('cpu')), strict=False)\n"
          ]
        },
        {
          "output_type": "execute_result",
          "data": {
            "text/plain": [
              "<All keys matched successfully>"
            ]
          },
          "metadata": {},
          "execution_count": 12
        }
      ]
    },
    {
      "cell_type": "code",
      "source": [
        "torch.save(model.state_dict(), 'fraud_detection_model.pth')\n"
      ],
      "metadata": {
        "id": "XB0BAQO90kGz"
      },
      "execution_count": null,
      "outputs": []
    },
    {
      "cell_type": "code",
      "source": [
        "model.load_state_dict(torch.load('fraud_detection_model.pth'))\n",
        "model.eval()\n"
      ],
      "metadata": {
        "colab": {
          "base_uri": "https://localhost:8080/"
        },
        "id": "_F_-Kkzx0oG0",
        "outputId": "57cf2e0e-3077-4f0c-c0ab-22063b5f3376"
      },
      "execution_count": null,
      "outputs": [
        {
          "output_type": "stream",
          "name": "stderr",
          "text": [
            "<ipython-input-14-f7ce5072791a>:1: FutureWarning: You are using `torch.load` with `weights_only=False` (the current default value), which uses the default pickle module implicitly. It is possible to construct malicious pickle data which will execute arbitrary code during unpickling (See https://github.com/pytorch/pytorch/blob/main/SECURITY.md#untrusted-models for more details). In a future release, the default value for `weights_only` will be flipped to `True`. This limits the functions that could be executed during unpickling. Arbitrary objects will no longer be allowed to be loaded via this mode unless they are explicitly allowlisted by the user via `torch.serialization.add_safe_globals`. We recommend you start setting `weights_only=True` for any use case where you don't have full control of the loaded file. Please open an issue on GitHub for any issues related to this experimental feature.\n",
            "  model.load_state_dict(torch.load('fraud_detection_model.pth'))\n"
          ]
        },
        {
          "output_type": "execute_result",
          "data": {
            "text/plain": [
              "AuditFraudModel(\n",
              "  (fc1): Linear(in_features=68, out_features=64, bias=True)\n",
              "  (fc2): Linear(in_features=64, out_features=32, bias=True)\n",
              "  (fc3): Linear(in_features=32, out_features=1, bias=True)\n",
              "  (sigmoid): Sigmoid()\n",
              ")"
            ]
          },
          "metadata": {},
          "execution_count": 14
        }
      ]
    },
    {
      "cell_type": "code",
      "source": [
        "import torch\n",
        "\n",
        "# Define the model class (must match the model used for training)\n",
        "class AuditFraudModel(nn.Module):\n",
        "    def __init__(self):\n",
        "        super(AuditFraudModel, self).__init__()\n",
        "        self.fc1 = nn.Linear(68, 64)  # Adjust input dimensions if needed\n",
        "        self.fc2 = nn.Linear(64, 32)\n",
        "        self.fc3 = nn.Linear(32, 1)\n",
        "        self.sigmoid = nn.Sigmoid()\n",
        "\n",
        "    def forward(self, x):\n",
        "        x = torch.relu(self.fc1(x))\n",
        "        x = torch.relu(self.fc2(x))\n",
        "        x = self.fc3(x)\n",
        "        x = self.sigmoid(x)\n",
        "        return x\n",
        "\n",
        "# Instantiate the model and load the trained weights\n",
        "model = AuditFraudModel()\n",
        "model.load_state_dict(torch.load('fraud_detection_model.pth'))\n",
        "\n",
        "# Save the model\n",
        "torch.save(model.state_dict(), 'fraud_detection_model.pth')\n"
      ],
      "metadata": {
        "id": "jLo_q6pV5-1b",
        "outputId": "68e6278c-aae0-4d91-d209-997be46247bb",
        "colab": {
          "base_uri": "https://localhost:8080/"
        }
      },
      "execution_count": null,
      "outputs": [
        {
          "output_type": "stream",
          "name": "stderr",
          "text": [
            "<ipython-input-15-d7b30b315a8b>:21: FutureWarning: You are using `torch.load` with `weights_only=False` (the current default value), which uses the default pickle module implicitly. It is possible to construct malicious pickle data which will execute arbitrary code during unpickling (See https://github.com/pytorch/pytorch/blob/main/SECURITY.md#untrusted-models for more details). In a future release, the default value for `weights_only` will be flipped to `True`. This limits the functions that could be executed during unpickling. Arbitrary objects will no longer be allowed to be loaded via this mode unless they are explicitly allowlisted by the user via `torch.serialization.add_safe_globals`. We recommend you start setting `weights_only=True` for any use case where you don't have full control of the loaded file. Please open an issue on GitHub for any issues related to this experimental feature.\n",
            "  model.load_state_dict(torch.load('fraud_detection_model.pth'))\n"
          ]
        }
      ]
    },
    {
      "cell_type": "code",
      "source": [
        "from google.colab import drive\n",
        "drive.mount('/content/drive')\n",
        "\n",
        "# Define the path to save the model in Google Drive\n",
        "model_path = '/content/drive/My Drive/fraud_detection_model.pth'\n",
        "\n",
        "# Save the model\n",
        "torch.save(model.state_dict(), model_path)\n"
      ],
      "metadata": {
        "colab": {
          "base_uri": "https://localhost:8080/"
        },
        "id": "30y0A5ap00Bw",
        "outputId": "e6b210fa-156d-4781-8e6b-e7e0803a6286"
      },
      "execution_count": null,
      "outputs": [
        {
          "output_type": "stream",
          "name": "stdout",
          "text": [
            "Mounted at /content/drive\n"
          ]
        }
      ]
    },
    {
      "cell_type": "code",
      "source": [
        "from google.colab import files\n",
        "files.download('fraud_detection_model.pth')\n"
      ],
      "metadata": {
        "id": "hg-VgXY02r90",
        "colab": {
          "base_uri": "https://localhost:8080/",
          "height": 17
        },
        "outputId": "ae0d16f8-3907-44e2-a73f-7d9b4c0bd461"
      },
      "execution_count": null,
      "outputs": [
        {
          "output_type": "display_data",
          "data": {
            "text/plain": [
              "<IPython.core.display.Javascript object>"
            ],
            "application/javascript": [
              "\n",
              "    async function download(id, filename, size) {\n",
              "      if (!google.colab.kernel.accessAllowed) {\n",
              "        return;\n",
              "      }\n",
              "      const div = document.createElement('div');\n",
              "      const label = document.createElement('label');\n",
              "      label.textContent = `Downloading \"${filename}\": `;\n",
              "      div.appendChild(label);\n",
              "      const progress = document.createElement('progress');\n",
              "      progress.max = size;\n",
              "      div.appendChild(progress);\n",
              "      document.body.appendChild(div);\n",
              "\n",
              "      const buffers = [];\n",
              "      let downloaded = 0;\n",
              "\n",
              "      const channel = await google.colab.kernel.comms.open(id);\n",
              "      // Send a message to notify the kernel that we're ready.\n",
              "      channel.send({})\n",
              "\n",
              "      for await (const message of channel.messages) {\n",
              "        // Send a message to notify the kernel that we're ready.\n",
              "        channel.send({})\n",
              "        if (message.buffers) {\n",
              "          for (const buffer of message.buffers) {\n",
              "            buffers.push(buffer);\n",
              "            downloaded += buffer.byteLength;\n",
              "            progress.value = downloaded;\n",
              "          }\n",
              "        }\n",
              "      }\n",
              "      const blob = new Blob(buffers, {type: 'application/binary'});\n",
              "      const a = document.createElement('a');\n",
              "      a.href = window.URL.createObjectURL(blob);\n",
              "      a.download = filename;\n",
              "      div.appendChild(a);\n",
              "      a.click();\n",
              "      div.remove();\n",
              "    }\n",
              "  "
            ]
          },
          "metadata": {}
        },
        {
          "output_type": "display_data",
          "data": {
            "text/plain": [
              "<IPython.core.display.Javascript object>"
            ],
            "application/javascript": [
              "download(\"download_52fd9bfd-5009-4b2b-b191-a0f803a564b0\", \"fraud_detection_model.pth\", 28884)"
            ]
          },
          "metadata": {}
        }
      ]
    }
  ]
}